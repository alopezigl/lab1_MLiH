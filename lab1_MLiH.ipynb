{
  "nbformat": 4,
  "nbformat_minor": 0,
  "metadata": {
    "colab": {
      "provenance": []
    },
    "kernelspec": {
      "name": "python3",
      "display_name": "Python 3"
    },
    "language_info": {
      "name": "python"
    }
  },
  "cells": [
    {
      "cell_type": "code",
      "execution_count": 1,
      "metadata": {
        "colab": {
          "base_uri": "https://localhost:8080/"
        },
        "id": "qOcXjcQgw89C",
        "outputId": "543f4c53-5690-4d36-85c0-2bd9688ce249"
      },
      "outputs": [
        {
          "output_type": "stream",
          "name": "stdout",
          "text": [
            "Collecting ucimlrepo\n",
            "  Downloading ucimlrepo-0.0.7-py3-none-any.whl.metadata (5.5 kB)\n",
            "Requirement already satisfied: pandas>=1.0.0 in /usr/local/lib/python3.12/dist-packages (from ucimlrepo) (2.2.2)\n",
            "Requirement already satisfied: certifi>=2020.12.5 in /usr/local/lib/python3.12/dist-packages (from ucimlrepo) (2025.8.3)\n",
            "Requirement already satisfied: numpy>=1.26.0 in /usr/local/lib/python3.12/dist-packages (from pandas>=1.0.0->ucimlrepo) (2.0.2)\n",
            "Requirement already satisfied: python-dateutil>=2.8.2 in /usr/local/lib/python3.12/dist-packages (from pandas>=1.0.0->ucimlrepo) (2.9.0.post0)\n",
            "Requirement already satisfied: pytz>=2020.1 in /usr/local/lib/python3.12/dist-packages (from pandas>=1.0.0->ucimlrepo) (2025.2)\n",
            "Requirement already satisfied: tzdata>=2022.7 in /usr/local/lib/python3.12/dist-packages (from pandas>=1.0.0->ucimlrepo) (2025.2)\n",
            "Requirement already satisfied: six>=1.5 in /usr/local/lib/python3.12/dist-packages (from python-dateutil>=2.8.2->pandas>=1.0.0->ucimlrepo) (1.17.0)\n",
            "Downloading ucimlrepo-0.0.7-py3-none-any.whl (8.0 kB)\n",
            "Installing collected packages: ucimlrepo\n",
            "Successfully installed ucimlrepo-0.0.7\n"
          ]
        }
      ],
      "source": [
        "pip install ucimlrepo"
      ]
    },
    {
      "cell_type": "code",
      "source": [
        "from ucimlrepo import fetch_ucirepo\n",
        "\n",
        "bone_marrow_transplant_children = fetch_ucirepo(id=565)\n",
        "\n",
        "\n",
        "X = bone_marrow_transplant_children.data.features\n",
        "y = bone_marrow_transplant_children.data.targets\n",
        "\n",
        "\n",
        "print(bone_marrow_transplant_children.metadata)\n",
        "\n",
        "print(bone_marrow_transplant_children.variables)\n"
      ],
      "metadata": {
        "colab": {
          "base_uri": "https://localhost:8080/"
        },
        "id": "svhbWc8bxCFx",
        "outputId": "03b638d2-604c-4111-fc6f-739186eff4ca"
      },
      "execution_count": 2,
      "outputs": [
        {
          "output_type": "stream",
          "name": "stdout",
          "text": [
            "{'uci_id': 565, 'name': 'Bone marrow transplant: children', 'repository_url': 'https://archive.ics.uci.edu/dataset/565/bone+marrow+transplant+children', 'data_url': 'https://archive.ics.uci.edu/static/public/565/data.csv', 'abstract': 'The data set describes pediatric patients with several hematologic diseases, who were subject to the unmanipulated allogeneic unrelated donor hematopoietic stem cell transplantation.', 'area': 'Health and Medicine', 'tasks': ['Classification', 'Regression'], 'characteristics': ['Multivariate'], 'num_instances': 187, 'num_features': 36, 'feature_types': ['Integer', 'Real'], 'demographics': ['Gender', 'Age'], 'target_col': ['survival_status'], 'index_col': None, 'has_missing_values': 'yes', 'missing_values_symbol': 'NaN', 'year_of_dataset_creation': 2020, 'last_updated': 'Fri Nov 03 2023', 'dataset_doi': '10.24432/C5NP6Z', 'creators': ['Marek Sikora', 'Łukasz Wróbel', 'Adam Gudyś'], 'intro_paper': {'ID': 293, 'type': 'NATIVE', 'title': 'GuideR: a guided separate-and-conquer rule learning in classification, regression, and survival settings', 'authors': 'M. Sikora, Lukasz Wróbel, Adam Gudyś', 'venue': 'Knowledge-Based Systems', 'year': 2018, 'journal': None, 'DOI': None, 'URL': 'https://arxiv.org/abs/1806.01579', 'sha': None, 'corpus': None, 'arxiv': None, 'mag': None, 'acl': None, 'pmid': None, 'pmcid': None}, 'additional_info': {'summary': \"The data set describes pediatric patients with several hematologic diseases: malignant disorders (i.a. acute lymphoblastic leukemia, acute myelogenous leukemia, chronic myelogenous leukemia, myelodysplastic syndrome) and nonmalignant cases (i.a. severe aplastic anemia, Fanconi anemia, with X-linked adrenoleukodystrophy). All patients were subject to the unmanipulated allogeneic unrelated donor hematopoietic stem cell transplantation. \\r\\n \\r\\nThe motivation of the study was to identify the most important factors influencing the success or failure of the transplantation procedure. In particular, the aim was to verify the hypothesis that increased dosage of CD34+ cells / kg extends overall survival time without simultaneous occurrence of undesirable events affecting patients' quality of life (KawÅ‚ak et al., 2010).\\r\\n\\r\\nThe data set has been used in our work concerning survival rules (WrÃ³bel et al., 2017) and user-guided rule induction (Sikora et al., 2019). The authors of the research on stem cell transplantation (KawÅ‚ak et al., 2010) who inspired our study also contributed to the set.\", 'purpose': None, 'funded_by': None, 'instances_represent': None, 'recommended_data_splits': None, 'sensitive_data': None, 'preprocessing_description': None, 'variable_info': 'donor_age - Age of the donor at the time of hematopoietic stem cells apheresis\\r\\ndonor_age_below_35 - Is donor age less than 35 (yes, no)\\r\\ndonor_ABO - ABO blood group of the donor of hematopoietic stem cells (0, A, B, AB)\\r\\ndonor_CMV - Presence of cytomegalovirus infection in the donor of hematopoietic stem cells prior to transplantation (present, absent)\\r\\nrecipient_age - Age of the recipient of hematopoietic stem cells at the time of transplantation\\r\\nrecipient_age_below_10 - Is recipient age below 10 (yes, no)\\r\\nrecipient_age_int - Age of the recipient discretized to intervals (0,5], (5, 10], (10, 20]\\r\\nrecipient_gender - Gender of the recipient (female, male)\\r\\nrecipient_body_mass - Body mass of the recipient of hematopoietic stem cells at the time of the transplantation\\r\\nrecipient_ABO - ABO blood group of the recipient of hematopoietic stem cells (0, A, B, AB)\\r\\nrecipient_rh - Presence of the Rh factor on recipientâ€™s red blood cells (plus, minus)\\r\\nrecipient_CMV - Presence of cytomegalovirus infection in the donor of hematopoietic stem cells prior to transplantation (present, absent)\\r\\ndisease - Type of disease (ALL, AML, chronic, nonmalignant, lymphoma)\\r\\ndisease_group - Type of disease (malignant, nonmalignant)\\r\\ngender_match - Compatibility of the donor and recipient according to their gender (female to male, other)\\r\\nABO_match - Compatibility of the donor and the recipient of hematopoietic stem cells according to ABO blood group (matched, mismatched)\\r\\nCMV_status - Serological compatibility of the donor and the recipient of hematopoietic stem cells according to cytomegalovirus infection prior to transplantation (the higher the value, the lower the compatibility)\\r\\nHLA_match - Compatibility of antigens of the main histocompatibility complex of the donor and the recipient of hematopoietic stem cells (10/10, 9/10, 8/10, 7/10)\\r\\nHLA_mismatch - HLA matched or mismatched\\r\\nantigen - In how many antigens there is a difference between the donor and the recipient (0-3)\\r\\nallel - In how many allele there is a difference between the donor and the recipient (0-4)\\r\\nHLA_group_1 - The difference type between the donor and the recipient (HLA matched, one antigen, one allel, DRB1 cell, two allele or allel+antigen, two antigenes+allel, mismatched)\\r\\nrisk_group - Risk group (high, low)\\r\\nstem_cell_source - Source of hematopoietic stem cells (peripheral blood, bone marrow)\\r\\ntx_post_relapse - The second bone marrow transplantation after relapse (yes ,no)\\r\\nCD34_x1e6_per_kg - CD34kgx10d6 - CD34+ cell dose per kg of recipient body weight (10^6/kg)\\r\\nCD3_x1e8_per_kg - CD3+ cell dose per kg of recipient body weight (10^8/kg)\\r\\nCD3_to_CD34_ratio - CD3+ cell to CD34+ cell ratio\\r\\nANC_recovery - Neutrophils recovery defined as neutrophils count >0.5 x 10^9/L (yes, no)\\r\\ntime_to_ANC_recovery - Time in days to neutrophils recovery\\r\\nPLT_recovery - Platelet recovery defined as platelet count >50000/mm3 (yes, no)\\r\\ntime_to_PLT_recovery - Time in days to platelet recovery\\r\\nacute_GvHD_II_III_IV - Development of acute graft versus host disease stage II or III or IV (yes, no)\\r\\nacute_GvHD_III_IV - Development of acute graft versus host disease stage III or IV (yes, no)\\r\\ntime_to_acute_GvHD_III_IV - Time in days to development of acute graft versus host disease stage III or IV\\r\\nextensive_chronic_GvHD - Development of extensive chronic graft versus host disease (yes, no)\\r\\nrelapse - Relapse of the disease (yes, no)\\r\\nsurvival_time - Time of observation (if alive) or time to event (if dead) in days\\r\\nsurvival_status - Survival status (0 - alive, 1 - dead)', 'citation': None}}\n",
            "                    name     role         type demographic  \\\n",
            "0        Recipientgender  Feature       Binary      Gender   \n",
            "1         Stemcellsource  Feature       Binary        None   \n",
            "2               Donorage  Feature      Integer         Age   \n",
            "3             Donorage35  Feature       Binary         Age   \n",
            "4                   IIIV  Feature       Binary        None   \n",
            "5            Gendermatch  Feature       Binary      Gender   \n",
            "6               DonorABO  Feature  Categorical        None   \n",
            "7           RecipientABO  Feature  Categorical        None   \n",
            "8            RecipientRh  Feature       Binary        None   \n",
            "9               ABOmatch  Feature       Binary        None   \n",
            "10             CMVstatus  Feature  Categorical        None   \n",
            "11              DonorCMV  Feature       Binary        None   \n",
            "12          RecipientCMV  Feature       Binary        None   \n",
            "13               Disease  Feature  Categorical        None   \n",
            "14             Riskgroup  Feature       Binary        None   \n",
            "15         Txpostrelapse  Feature       Binary        None   \n",
            "16          Diseasegroup  Feature       Binary        None   \n",
            "17              HLAmatch  Feature  Categorical        None   \n",
            "18           HLAmismatch  Feature       Binary        None   \n",
            "19               Antigen  Feature  Categorical        None   \n",
            "20                Allele  Feature  Categorical        None   \n",
            "21                HLAgrI  Feature  Categorical        None   \n",
            "22          Recipientage  Feature      Integer         Age   \n",
            "23        Recipientage10  Feature       Binary         Age   \n",
            "24       Recipientageint  Feature  Categorical         Age   \n",
            "25               Relapse  Feature       Binary        None   \n",
            "26            aGvHDIIIIV  Feature       Binary        None   \n",
            "27              extcGvHD  Feature       Binary        None   \n",
            "28           CD34kgx10d6  Feature      Integer        None   \n",
            "29              CD3dCD34  Feature      Integer        None   \n",
            "30           CD3dkgx10d8  Feature      Integer        None   \n",
            "31             Rbodymass  Feature      Integer        None   \n",
            "32           ANCrecovery  Feature      Integer        None   \n",
            "33           PLTrecovery  Feature      Integer        None   \n",
            "34  time_to_aGvHD_III_IV  Feature      Integer        None   \n",
            "35         survival_time  Feature      Integer        None   \n",
            "36       survival_status   Target      Integer        None   \n",
            "\n",
            "                                          description    units missing_values  \n",
            "0                                Male - 1, Female - 0     None             no  \n",
            "1   Source of hematopoietic stem cells (Peripheral...     None             no  \n",
            "2   Age of the donor at the time of hematopoietic ...     None             no  \n",
            "3               Donor age <35 - 0, Donor age >=35 - 1     None             no  \n",
            "4   Development of acute graft versus host disease...     None             no  \n",
            "5   Compatibility of the donor and recipient accor...     None             no  \n",
            "6   ABO blood group of the donor of hematopoietic ...     None             no  \n",
            "7   ABO blood group of the recipient of hematopoie...     None            yes  \n",
            "8   Presence of the Rh factor on recipient s red b...     None            yes  \n",
            "9   Compatibility of the donor and the recipient o...     None            yes  \n",
            "10  Serological compatibility of the donor and the...     None            yes  \n",
            "11  resence of cytomegalovirus infection in the do...     None            yes  \n",
            "12  Presence of cytomegalovirus infection in the d...     None            yes  \n",
            "13  Type of disease (ALL,AML,chronic,nonmalignant,...     None             no  \n",
            "14                        High risk - 1, Low risk - 0     None             no  \n",
            "15  The second bone marrow transplantation after r...     None             no  \n",
            "16  Type of disease (malignant - 1, nonmalignant - 0)     None             no  \n",
            "17  Compatibility of antigens of the main histocom...     None             no  \n",
            "18                 HLA matched - 0, HL mismatched - 1     None             no  \n",
            "19  In how many antigens there is difference beetw...     None            yes  \n",
            "20  In how many allele there is difference beetwen...     None            yes  \n",
            "21  The difference type between the donor and the ...     None             no  \n",
            "22  Age of the recipient of hematopoietic stem cel...     None             no  \n",
            "23       Recipient age <10 - 0, Recipient age>=10 - 1     None             no  \n",
            "24  Recipient age in (0,5] - 0, (5, 10] - 1, (10, ...     None             no  \n",
            "25      Reoccurrence of the disease (No - 0, Yes - 1)     None             no  \n",
            "26  Development of acute graft versus host disease...     None             no  \n",
            "27  Development of extensive chronic graft versus ...     None            yes  \n",
            "28    CD34+ cell dose per kg of recipient body weight  10^6/kg             no  \n",
            "29                      CD3+ cell to CD34+ cell ratio     None            yes  \n",
            "30     CD3+ cell dose per kg of recipient body weight  10^8/kg            yes  \n",
            "31  Body mass of the recipient of hematopoietic st...     None            yes  \n",
            "32  Time to neutrophils recovery defined as neutro...     None             no  \n",
            "33  Time to platelet recovery defined as platelet ...     None             no  \n",
            "34  Time to development of acute graft versus host...     None             no  \n",
            "35  Time of observation (if alive) or time to even...     None             no  \n",
            "36              Survival status (0 - alive, 1 - dead)     None             no  \n"
          ]
        }
      ]
    }
  ]
}